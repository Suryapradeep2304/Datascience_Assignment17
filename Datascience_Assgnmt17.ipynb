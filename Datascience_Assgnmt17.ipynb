{
 "cells": [
  {
   "cell_type": "code",
   "execution_count": null,
   "metadata": {},
   "outputs": [],
   "source": [
    "# Are gender and education level dependent at 5% level of significance?"
   ]
  },
  {
   "cell_type": "code",
   "execution_count": 24,
   "metadata": {},
   "outputs": [
    {
     "name": "stdout",
     "output_type": "stream",
     "text": [
      "Power_divergenceResult(statistic=8.22326224787828, pvalue=0.31331931176782246)\n"
     ]
    }
   ],
   "source": [
    "import pandas as pd\n",
    "import numpy as np\n",
    "import math\n",
    "import statistics as stat\n",
    "from scipy import stats\n",
    "import matplotlib.pyplot as plt\n",
    "from scipy.stats import chisquare\n",
    "\n",
    "n = 395 #sample_size\n",
    "#-- Original Dataset with survey details --.\n",
    "survey_df = pd.DataFrame(\n",
    "    {\n",
    "        'Gender': ['Male','Female'],\n",
    "        'High School': [60,40],\n",
    "        'Bachelors': [54,44],\n",
    "        'Masters': [46,53],\n",
    "        'Ph.D': [41,57]\n",
    "    })\n",
    "survey_df.set_index('Gender')\n",
    "survey_df['Total'] = survey_df.sum(axis=1)\n",
    "survey_df.loc['Total'] =survey_df.sum()\n",
    "observed =[60,40,54,44,46,53,41,57]\n",
    "survey1_df = pd.DataFrame(\n",
    "    {\n",
    "        'Gender': ['Male','Female'],\n",
    "        'High School': [210*100/395,194*100/395],\n",
    "        'Bachelors': [210*98/395,194*98/395],\n",
    "        'Masters': [210*99/395,194*99/395],\n",
    "        'Ph.D': [210*98/395,194*98/395]\n",
    "    })\n",
    "survey1_df.set_index('Gender')\n",
    "survey1_df['Total'] = survey1_df.sum(axis=1)\n",
    "survey1_df.loc['Total'] =survey1_df.sum()\n",
    "expected = [210*100/395,194*100/395,210*98/395,194*98/395,210*99/395,194*99/395,210*98/395,194*98/395]\n",
    "expected\n",
    "chi_squared_stat = chisquare(observed,expected)\n",
    "print(chi_squared_stat)\n",
    "\n",
    "# hence we reject the null hypothesis and conclude that the education level depends on gender at a 5% level of significance.\n",
    "        "
   ]
  },
  {
   "cell_type": "code",
   "execution_count": null,
   "metadata": {},
   "outputs": [],
   "source": [
    "# Using the following data, perform a oneway analysis of variance using α=.05. Write up the results in APA format."
   ]
  },
  {
   "cell_type": "code",
   "execution_count": 77,
   "metadata": {},
   "outputs": [
    {
     "data": {
      "text/html": [
       "<div>\n",
       "<style scoped>\n",
       "    .dataframe tbody tr th:only-of-type {\n",
       "        vertical-align: middle;\n",
       "    }\n",
       "\n",
       "    .dataframe tbody tr th {\n",
       "        vertical-align: top;\n",
       "    }\n",
       "\n",
       "    .dataframe thead th {\n",
       "        text-align: right;\n",
       "    }\n",
       "</style>\n",
       "<table border=\"1\" class=\"dataframe\">\n",
       "  <thead>\n",
       "    <tr style=\"text-align: right;\">\n",
       "      <th></th>\n",
       "      <th>source</th>\n",
       "      <th>SS</th>\n",
       "      <th>DF</th>\n",
       "    </tr>\n",
       "  </thead>\n",
       "  <tbody>\n",
       "    <tr>\n",
       "      <th>0</th>\n",
       "      <td>group</td>\n",
       "      <td>3022.933333</td>\n",
       "      <td>2</td>\n",
       "    </tr>\n",
       "    <tr>\n",
       "      <th>1</th>\n",
       "      <td>var</td>\n",
       "      <td>302.293333</td>\n",
       "      <td>12</td>\n",
       "    </tr>\n",
       "    <tr>\n",
       "      <th>2</th>\n",
       "      <td>total</td>\n",
       "      <td>3325.226667</td>\n",
       "      <td></td>\n",
       "    </tr>\n",
       "  </tbody>\n",
       "</table>\n",
       "</div>"
      ],
      "text/plain": [
       "  source           SS  DF\n",
       "0  group  3022.933333   2\n",
       "1    var   302.293333  12\n",
       "2  total  3325.226667    "
      ]
     },
     "execution_count": 77,
     "metadata": {},
     "output_type": "execute_result"
    }
   ],
   "source": [
    "import pandas as pd\n",
    "import numpy as np\n",
    "import math\n",
    "import statistics as stat\n",
    "from scipy import stats\n",
    "import matplotlib.pyplot as plt\n",
    "# ananlysis data as dataframe\n",
    "analysis_df = pd.DataFrame(\n",
    "    {\n",
    "        'Group1': [51,45,33,45,67],\n",
    "        'Group2': [23,43,23,43,45],\n",
    "        'Group3': [56,76,74,87,56]\n",
    "    })\n",
    "analysis_df\n",
    "\n",
    "# means of each group\n",
    "group1_m = (51+45+33+45+67)/(5)\n",
    "group2_m = (23+43+23+43+45)/(5)\n",
    "group3_m = (56+76+74+87+56)/(5)\n",
    "\n",
    "#sum of squares of deviations as df\n",
    "analysis_ss_df = pd.DataFrame(\n",
    "    {\n",
    "        'Group1_ss': [((51-float(group1_m))**2),((45-float(group1_m))**2),((33-float(group1_m))**2),((45-float(group1_m))**2),((67-float(group1_m))**2)],\n",
    "        'Group2_ss': [((23-float(group2_m))**2),((43-float(group2_m))**2),((23-float(group2_m))**2),((43-float(group2_m))**2),((45-float(group2_m))**2)],\n",
    "        'Group3_ss': [((56-float(group3_m))**2),((76-float(group3_m))**2),((74-float(group3_m))**2),((87-float(group3_m))**2),((56-float(group3_m))**2)]\n",
    "    })\n",
    "analysis_ss_df\n",
    "\n",
    "# sum of squares of deviations per group  \n",
    "sum_Group1_ss = float(((51-float(group1_m))**2)+((45-float(group1_m))**2)+((33-float(group1_m))**2)+((45-float(group1_m))**2)+((67-float(group1_m))**2))\n",
    "sum_Group2_ss = float(((23-float(group2_m))**2)+((43-float(group2_m))**2)+((23-float(group2_m))**2)+((43-float(group2_m))**2)+((45-float(group2_m))**2))\n",
    "sum_Group3_ss = float(((56-float(group3_m))**2)+((76-float(group3_m))**2)+((74-float(group3_m))**2)+((87-float(group3_m))**2)+((56-float(group3_m))**2))\n",
    "\n",
    "# grand mean of group means'\n",
    "grand_m = (group1_m+group2_m+group3_m)/3\n",
    "\n",
    "# Sum of squares of deviation of means nad grand mean \n",
    "grand_m_ss = (((group1_m-grand_m)**2)+((group2_m-grand_m)**2)+((group3_m-grand_m)**2))\n",
    "\n",
    "#variance by group\n",
    "var_1 = sum_Group1_ss/(5-1)\n",
    "var_2 = sum_Group2_ss/(5-1)\n",
    "var_3 = sum_Group3_ss/(5-1)\n",
    "\n",
    "# grand mean of group variances'\n",
    "var_m = (var_1+var_2+var_3)/3\n",
    "df_var = 15-3\n",
    "# sum of squares of deviation of variances\n",
    "group_m_ss = var_m*df_var\n",
    "\n",
    "#\n",
    "var_m_ss = grand_m_ss/(3-1)\n",
    "var_m_ss_sum = var_m_ss*5\n",
    "ss_mean = (sum_Group1_ss+sum_Group2_ss+sum_Group3_ss)/3\n",
    "var_m_ss_sum\n",
    "df_groups = 3-1\n",
    "SS_group = var_m_ss_sum*df_groups\n",
    "SS_group\n",
    "\n",
    "APA_df = pd.DataFrame(\n",
    "    {\n",
    "        'source': ['group','var','total'],\n",
    "        'SS': [SS_group,var_m_ss,(SS_group+var_m_ss)], #sum of squares\n",
    "        'DF': [df_groups,df_var,'']\n",
    "    })\n",
    "APA_df\n",
    "\n",
    "# Test statistic and critical value\n",
    "# F=1511.45/155.07 =9.75\n",
    "# Fcritical(2,12) =3.89\n",
    "# F(2, 12)=9.75, p <0.05, effect size =0.62\n",
    "# Decision reject the null hypothesis "
   ]
  },
  {
   "cell_type": "code",
   "execution_count": null,
   "metadata": {},
   "outputs": [],
   "source": [
    "# Calculate F Test for given 10, 20, 30, 40, 50 and 5,10,15, 20, 25. For 10, 20, 30, 40, 50:"
   ]
  },
  {
   "cell_type": "code",
   "execution_count": 108,
   "metadata": {},
   "outputs": [
    {
     "name": "stdout",
     "output_type": "stream",
     "text": [
      "F_Test for given lists: 4.0\n"
     ]
    }
   ],
   "source": [
    "import pandas as pd\n",
    "import numpy as np\n",
    "import math\n",
    "import statistics as stat\n",
    "from scipy import stats\n",
    "import matplotlib.pyplot as plt\n",
    "\n",
    "list1 = [10,20,30,40,50]\n",
    "list2 = [5,10,15,20,25]\n",
    "n1 = len(list1)\n",
    "n2 = len(list2)\n",
    "mean1 = sum(list1)/n1\n",
    "mean2 = sum(list2)/n2\n",
    "var_list1 = ((np.array(list1)-mean1)**2).tolist()\n",
    "var_list2 = ((np.array(list2)-mean2)**2).tolist()\n",
    "var_1 = (1/(n1-1))*sum(var_list1)\n",
    "var_2 = (1/(n2-1))*sum(var_list2)\n",
    "F_test = var_1/var_2\n",
    "print(\"F_Test for given lists:\", F_test)"
   ]
  },
  {
   "cell_type": "code",
   "execution_count": null,
   "metadata": {},
   "outputs": [],
   "source": []
  }
 ],
 "metadata": {
  "kernelspec": {
   "display_name": "Python 3",
   "language": "python",
   "name": "python3"
  },
  "language_info": {
   "codemirror_mode": {
    "name": "ipython",
    "version": 3
   },
   "file_extension": ".py",
   "mimetype": "text/x-python",
   "name": "python",
   "nbconvert_exporter": "python",
   "pygments_lexer": "ipython3",
   "version": "3.6.5"
  }
 },
 "nbformat": 4,
 "nbformat_minor": 2
}
